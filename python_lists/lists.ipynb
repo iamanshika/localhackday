{
    "cells": [
        {
            "attachments": {},
            "cell_type": "markdown",
            "metadata": {},
            "source": [
                "## 🤹🏻‍♀️ List manipulation\n",
                "\n",
                "Manipulating lists will be a big part of your data science journey. \n",
                "We will start with a few simple operations here."
            ]
        },
        {
            "cell_type": "code",
            "execution_count": null,
            "metadata": {},
            "outputs": [],
            "source": [
                "# This imports a test_list we've provided for you\n",
                "from helper import test_list"
            ]
        },
        {
            "cell_type": "code",
            "execution_count": null,
            "metadata": {},
            "outputs": [],
            "source": [
                "## view the first 5 elements of a list\n",
                "mini_list = ___\n",
                "print(mini_list)"
            ]
        },
        {
            "cell_type": "code",
            "execution_count": null,
            "metadata": {},
            "outputs": [],
            "source": [
                "# Find the largest number in the list \n",
                "max_val = ___\n",
                "print(max_val)"
            ]
        },
        {
            "cell_type": "code",
            "execution_count": null,
            "metadata": {},
            "outputs": [],
            "source": [
                "# Find the sum of the list\n",
                "sum_of_list = ___\n",
                "print(sum_of_list)"
            ]
        },
        {
            "attachments": {},
            "cell_type": "markdown",
            "metadata": {},
            "source": [
                "### ⏸ For a list of numbers `num_list`, which expression will give the average?\n",
                "\n",
                "#### A. `num_list.mean()`\n",
                "#### B. `num_list.sum()/num_list.len()`\n",
                "#### C. `len(num_list)/sum(num_list)`\n",
                "#### D. `sum(num_list)/len(num_list)`\n"
            ]
        },
        {
            "cell_type": "code",
            "execution_count": null,
            "metadata": {},
            "outputs": [],
            "source": [
                "# Submit an answer choice as a string below (eg. if you choose option A put 'A')\n",
                "answer1 = '___'"
            ]
        },
        {
            "cell_type": "code",
            "execution_count": null,
            "metadata": {},
            "outputs": [],
            "source": [
                "# Find the average of the list\n",
                "sum_of_list = ___\n",
                "length_of_list = ___\n",
                "average = ___\n",
                "print(average)"
            ]
        },
        {
            "cell_type": "code",
            "execution_count": null,
            "metadata": {},
            "outputs": [],
            "source": [
                "# make a new list, `sorted_list` to sort the given list\n",
                "sorted_list = ___\n",
                "# print the first ten elements of the list \n",
                "print(sorted_list[:10]);"
            ]
        },
        {
            "cell_type": "code",
            "execution_count": null,
            "metadata": {},
            "outputs": [],
            "source": [
                "# Make a new list,`even_list`, consisting of only the even numbers in the list\n",
                "even_list = ___\n",
                "# print the first ten elements of the new list \n",
                "print(even_list[:10])"
            ]
        },
        {
            "cell_type": "code",
            "execution_count": null,
            "metadata": {},
            "outputs": [],
            "source": [
                "# Make a new list, `odd_list`, consisting of only the odd numbers in the list\n",
                "odd_list = ___\n",
                "# print the first ten elements of the new list \n",
                "print(odd_list[:10])"
            ]
        },
        {
            "cell_type": "code",
            "execution_count": null,
            "metadata": {},
            "outputs": [],
            "source": [
                "# Using indexing to reverse the sorted list and print the first ten elements\n",
                "reverse_list = ___\n",
                "print(reverse_list[:10])"
            ]
        },
        {
            "cell_type": "code",
            "execution_count": null,
            "metadata": {},
            "outputs": [],
            "source": [
                "# Combine the `even_list` and the `odd_list` by using the `+` operator and compare it with the `sorted_list` to check if they are identical\n",
                "combined_list = ___\n",
                "\n",
                "combined_list == sorted_list"
            ]
        },
        {
            "attachments": {},
            "cell_type": "markdown",
            "metadata": {},
            "source": [
                "### ⏸ Which of the following expressions will make `new_list == sorted_list` as `True`?\n",
                "\n",
                "#### A. `new_list = combined_list.sort()`\n",
                "#### B. `new_list = sorted(combined_list)`\n",
                "#### C. `new_list = sort(combined_list)`\n",
                "#### D. All of the above\n"
            ]
        }
    ],
    "metadata": {
        "kernelspec": {
            "display_name": "Python 3",
            "language": "python",
            "name": "python3"
        }
    },
    "nbformat": 4,
    "nbformat_minor": 4
}
