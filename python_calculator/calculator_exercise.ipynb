{
    "cells": [
        {
            "attachments": {},
            "cell_type": "markdown",
            "metadata": {},
            "source": [
                "## A Simple Calculator\n",
                "\n",
                "Here we build a simple calculator with only 4 operations\n",
                "- Addition\n",
                "- Subtraction\n",
                "- Multiplication\n",
                "- Division"
            ]
        },
        {
            "cell_type": "code",
            "execution_count": null,
            "metadata": {},
            "outputs": [],
            "source": [
                "# We can take an input from the user by using the 'input()' function\n",
                "print('What is your name? ')\n",
                "\n",
                "# Ignore the `Try/Except` blocks, we will learn more about them in session 5\n",
                "try:\n",
                "    name = ___\n",
                "    print('Hello, '+name)\n",
                "except:\n",
                "    pass"
            ]
        },
        {
            "cell_type": "code",
            "execution_count": null,
            "metadata": {},
            "outputs": [],
            "source": [
                "# Optionally, the input function takes any input as a string as 'input(\"String to be printed\")'\n",
                "try:\n",
                "    number = ___\n",
                "    print(number)\n",
                "except:\n",
                "    pass"
            ]
        },
        {
            "attachments": {},
            "cell_type": "markdown",
            "metadata": {},
            "source": [
                "### ⏸ What is the `type` of the `number` that you get from the `input()` function?\n",
                "\n",
                "\n",
                "#### A. float\n",
                "#### B. str\n",
                "#### C. int\n",
                "#### D. tuple"
            ]
        },
        {
            "cell_type": "code",
            "execution_count": null,
            "metadata": {},
            "outputs": [],
            "source": [
                "\n",
                "# Submit an answer choice as a string below (eg. if you choose option C, put 'C')\n",
                "answer1 = '___'"
            ]
        },
        {
            "cell_type": "code",
            "execution_count": null,
            "metadata": {},
            "outputs": [],
            "source": [
                "# Take input from the user to determine the operation\n",
                "\n",
                "print(\"Select operation\\n\")\n",
                "print(\"1.Addition\")\n",
                "print(\"2.Subtraction\")\n",
                "print(\"3.Multiplication\")\n",
                "print(\"4.Division\")\n",
                "\n",
                "try:\n",
                "    # Take a numeric selection corresponding to the operation (1/2/3/4) from the user\n",
                "    # using the `input()` function\n",
                "    choice = ___\n",
                "    \n",
                "    # Ensure that the user has entered a valid choice\n",
                "    if ___:\n",
                "        print('Please enter a valid choice!')\n",
                "\n",
                "    else:\n",
                "        # Take the first number as an input from the user using the `input()` function\n",
                "        number_1 = ___\n",
                "        # Take the second number as an input from the user using the `input()` function\n",
                "        number_2 = ___\n",
                "\n",
                "        if choice == '1':\n",
                "            result = ___\n",
                "        elif choice == '2':\n",
                "            result = ___\n",
                "        elif choice == '3':\n",
                "            result = ___\n",
                "        elif choice == '4': \n",
                "            # Check if the second number is not zero\n",
                "            if(___):\n",
                "                print(\"Invalid input\")\n",
                "            else:\n",
                "                result = ___\n",
                "        print(___)\n",
                "except:\n",
                "    pass"
            ]
        },
        {
            "attachments": {},
            "cell_type": "markdown",
            "metadata": {},
            "source": [
                "### ⏸ How can we make this python program run continuously, like a real calculator ?\n",
                "\n",
                "\n",
                "#### A. Use a `for` loop\n",
                "#### B. Use a `while` loop\n",
                "#### C. Use a `Do while` loop"
            ]
        },
        {
            "attachments": {},
            "cell_type": "markdown",
            "metadata": {},
            "source": [
                "## 👩🏻‍🎓 Bonus\n",
                "\n",
                "Add an extra, 5th operation called `modular division` which is the remainder when number 1 is divided by number 2. "
            ]
        }
    ],
    "metadata": {
        "kernelspec": {
            "display_name": "Python 3",
            "language": "python",
            "name": "python3"
        }
    },
    "nbformat": 4,
    "nbformat_minor": 4
}
